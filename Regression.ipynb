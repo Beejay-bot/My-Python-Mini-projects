{
 "cells": [
  {
   "cell_type": "code",
   "execution_count": 1,
   "metadata": {},
   "outputs": [],
   "source": [
    "import pandas as pd\n",
    "learn.linear_model import LinearRegression"
   ]
  },
  {
   "cell_type": "code",
   "execution_count": 9,
   "metadata": {},
   "outputs": [
    {
     "data": {
      "text/html": [
       "<div>\n",
       "<style scoped>\n",
       "    .dataframe tbody tr th:only-of-type {\n",
       "        vertical-align: middle;\n",
       "    }\n",
       "\n",
       "    .dataframe tbody tr th {\n",
       "        vertical-align: top;\n",
       "    }\n",
       "\n",
       "    .dataframe thead th {\n",
       "        text-align: right;\n",
       "    }\n",
       "</style>\n",
       "<table border=\"1\" class=\"dataframe\">\n",
       "  <thead>\n",
       "    <tr style=\"text-align: right;\">\n",
       "      <th></th>\n",
       "      <th>Date</th>\n",
       "      <th>Open</th>\n",
       "      <th>High</th>\n",
       "      <th>Low</th>\n",
       "      <th>Close</th>\n",
       "      <th>Adj Close</th>\n",
       "      <th>Volume</th>\n",
       "    </tr>\n",
       "  </thead>\n",
       "  <tbody>\n",
       "    <tr>\n",
       "      <th>0</th>\n",
       "      <td>2011-01-03</td>\n",
       "      <td>297.126312</td>\n",
       "      <td>301.664276</td>\n",
       "      <td>297.126312</td>\n",
       "      <td>301.046600</td>\n",
       "      <td>301.046600</td>\n",
       "      <td>4748100</td>\n",
       "    </tr>\n",
       "    <tr>\n",
       "      <th>1</th>\n",
       "      <td>2011-01-04</td>\n",
       "      <td>301.679230</td>\n",
       "      <td>301.958191</td>\n",
       "      <td>298.939514</td>\n",
       "      <td>299.935760</td>\n",
       "      <td>299.935760</td>\n",
       "      <td>3662600</td>\n",
       "    </tr>\n",
       "    <tr>\n",
       "      <th>2</th>\n",
       "      <td>2011-01-05</td>\n",
       "      <td>298.914581</td>\n",
       "      <td>304.025452</td>\n",
       "      <td>298.904633</td>\n",
       "      <td>303.397797</td>\n",
       "      <td>303.397797</td>\n",
       "      <td>5083500</td>\n",
       "    </tr>\n",
       "    <tr>\n",
       "      <th>3</th>\n",
       "      <td>2011-01-06</td>\n",
       "      <td>304.199799</td>\n",
       "      <td>308.060303</td>\n",
       "      <td>303.885956</td>\n",
       "      <td>305.604523</td>\n",
       "      <td>305.604523</td>\n",
       "      <td>4131000</td>\n",
       "    </tr>\n",
       "    <tr>\n",
       "      <th>4</th>\n",
       "      <td>2011-01-07</td>\n",
       "      <td>306.805023</td>\n",
       "      <td>307.970642</td>\n",
       "      <td>303.925812</td>\n",
       "      <td>307.069031</td>\n",
       "      <td>307.069031</td>\n",
       "      <td>4218100</td>\n",
       "    </tr>\n",
       "  </tbody>\n",
       "</table>\n",
       "</div>"
      ],
      "text/plain": [
       "         Date        Open        High         Low       Close   Adj Close  \\\n",
       "0  2011-01-03  297.126312  301.664276  297.126312  301.046600  301.046600   \n",
       "1  2011-01-04  301.679230  301.958191  298.939514  299.935760  299.935760   \n",
       "2  2011-01-05  298.914581  304.025452  298.904633  303.397797  303.397797   \n",
       "3  2011-01-06  304.199799  308.060303  303.885956  305.604523  305.604523   \n",
       "4  2011-01-07  306.805023  307.970642  303.925812  307.069031  307.069031   \n",
       "\n",
       "    Volume  \n",
       "0  4748100  \n",
       "1  3662600  \n",
       "2  5083500  \n",
       "3  4131000  \n",
       "4  4218100  "
      ]
     },
     "execution_count": 9,
     "metadata": {},
     "output_type": "execute_result"
    }
   ],
   "source": [
    "google = pd.read_csv(\"GOOG.csv\")\n",
    "# google = google.drop('volume', axis = 1)\n",
    "google.head()"
   ]
  },
  {
   "cell_type": "code",
   "execution_count": null,
   "metadata": {},
   "outputs": [],
   "source": []
  }
 ],
 "metadata": {
  "kernelspec": {
   "display_name": "Python 3",
   "language": "python",
   "name": "python3"
  },
  "language_info": {
   "codemirror_mode": {
    "name": "ipython",
    "version": 3
   },
   "file_extension": ".py",
   "mimetype": "text/x-python",
   "name": "python",
   "nbconvert_exporter": "python",
   "pygments_lexer": "ipython3",
   "version": "3.7.0"
  }
 },
 "nbformat": 4,
 "nbformat_minor": 2
}
